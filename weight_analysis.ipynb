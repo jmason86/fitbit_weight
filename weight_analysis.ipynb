{
 "cells": [
  {
   "cell_type": "code",
   "execution_count": 1,
   "metadata": {},
   "outputs": [],
   "source": [
    "import json\n",
    "import pandas as pd\n",
    "import requests\n",
    "import os.path\n",
    "import time\n",
    "import seaborn as sns\n",
    "import plotly.express as px\n",
    "import plotly.offline as pyo\n",
    "import matplotlib\n",
    "import matplotlib.pyplot as plt\n",
    "\n",
    "%matplotlib widget"
   ]
  },
  {
   "cell_type": "code",
   "execution_count": 2,
   "metadata": {},
   "outputs": [],
   "source": [
    "w_dir = 'data/'\n",
    "flist = os.listdir(w_dir)\n",
    "n_files = len(flist)"
   ]
  },
  {
   "cell_type": "code",
   "execution_count": 3,
   "metadata": {},
   "outputs": [],
   "source": [
    "df = pd.DataFrame(columns=['date', 'weight', 'fat', 'bmi'])"
   ]
  },
  {
   "cell_type": "code",
   "execution_count": 4,
   "metadata": {},
   "outputs": [],
   "source": [
    "for i, file in enumerate(flist):\n",
    "    \n",
    "    with open(w_dir + file, 'r') as f:\n",
    "        this_json = json.load(f)\n",
    "    \n",
    "    for entry in this_json:\n",
    "        date = entry.get('date')\n",
    "        weight = entry.get('weight')\n",
    "        fat = entry.get('fat')\n",
    "        bmi = entry.get('bmi')\n",
    "        \n",
    "        df = df.append({'date':date, 'weight':weight, 'fat':fat, 'bmi':bmi}, ignore_index=True)\n",
    "\n",
    "df['date'] = pd.to_datetime(df.date)\n",
    "df.sort_values(by=['date'], inplace=True)\n",
    "df.index = df['date']\n",
    "df.drop(columns=['date'], inplace=True)"
   ]
  },
  {
   "cell_type": "code",
   "execution_count": 5,
   "metadata": {},
   "outputs": [
    {
     "data": {
      "text/html": [
       "<div>\n",
       "<style scoped>\n",
       "    .dataframe tbody tr th:only-of-type {\n",
       "        vertical-align: middle;\n",
       "    }\n",
       "\n",
       "    .dataframe tbody tr th {\n",
       "        vertical-align: top;\n",
       "    }\n",
       "\n",
       "    .dataframe thead th {\n",
       "        text-align: right;\n",
       "    }\n",
       "</style>\n",
       "<table border=\"1\" class=\"dataframe\">\n",
       "  <thead>\n",
       "    <tr style=\"text-align: right;\">\n",
       "      <th></th>\n",
       "      <th>weight</th>\n",
       "      <th>fat</th>\n",
       "      <th>bmi</th>\n",
       "    </tr>\n",
       "    <tr>\n",
       "      <th>date</th>\n",
       "      <th></th>\n",
       "      <th></th>\n",
       "      <th></th>\n",
       "    </tr>\n",
       "  </thead>\n",
       "  <tbody>\n",
       "    <tr>\n",
       "      <th>2013-07-18</th>\n",
       "      <td>195.6</td>\n",
       "      <td>24.913</td>\n",
       "      <td>28.91</td>\n",
       "    </tr>\n",
       "    <tr>\n",
       "      <th>2013-07-18</th>\n",
       "      <td>198.6</td>\n",
       "      <td>26.815</td>\n",
       "      <td>29.35</td>\n",
       "    </tr>\n",
       "    <tr>\n",
       "      <th>2013-07-18</th>\n",
       "      <td>197.3</td>\n",
       "      <td>22.283</td>\n",
       "      <td>29.17</td>\n",
       "    </tr>\n",
       "    <tr>\n",
       "      <th>2013-07-18</th>\n",
       "      <td>196.1</td>\n",
       "      <td>22.181</td>\n",
       "      <td>28.98</td>\n",
       "    </tr>\n",
       "    <tr>\n",
       "      <th>2013-07-19</th>\n",
       "      <td>198.5</td>\n",
       "      <td>25.404</td>\n",
       "      <td>29.34</td>\n",
       "    </tr>\n",
       "    <tr>\n",
       "      <th>...</th>\n",
       "      <td>...</td>\n",
       "      <td>...</td>\n",
       "      <td>...</td>\n",
       "    </tr>\n",
       "    <tr>\n",
       "      <th>2020-10-18</th>\n",
       "      <td>188.3</td>\n",
       "      <td>25.483</td>\n",
       "      <td>27.83</td>\n",
       "    </tr>\n",
       "    <tr>\n",
       "      <th>2020-10-19</th>\n",
       "      <td>188.6</td>\n",
       "      <td>24.489</td>\n",
       "      <td>27.88</td>\n",
       "    </tr>\n",
       "    <tr>\n",
       "      <th>2020-10-20</th>\n",
       "      <td>186.3</td>\n",
       "      <td>None</td>\n",
       "      <td>27.54</td>\n",
       "    </tr>\n",
       "    <tr>\n",
       "      <th>2020-10-20</th>\n",
       "      <td>186.3</td>\n",
       "      <td>25.382</td>\n",
       "      <td>27.54</td>\n",
       "    </tr>\n",
       "    <tr>\n",
       "      <th>2020-10-20</th>\n",
       "      <td>187.2</td>\n",
       "      <td>24.441</td>\n",
       "      <td>27.67</td>\n",
       "    </tr>\n",
       "  </tbody>\n",
       "</table>\n",
       "<p>1639 rows × 3 columns</p>\n",
       "</div>"
      ],
      "text/plain": [
       "            weight     fat    bmi\n",
       "date                             \n",
       "2013-07-18   195.6  24.913  28.91\n",
       "2013-07-18   198.6  26.815  29.35\n",
       "2013-07-18   197.3  22.283  29.17\n",
       "2013-07-18   196.1  22.181  28.98\n",
       "2013-07-19   198.5  25.404  29.34\n",
       "...            ...     ...    ...\n",
       "2020-10-18   188.3  25.483  27.83\n",
       "2020-10-19   188.6  24.489  27.88\n",
       "2020-10-20   186.3    None  27.54\n",
       "2020-10-20   186.3  25.382  27.54\n",
       "2020-10-20   187.2  24.441  27.67\n",
       "\n",
       "[1639 rows x 3 columns]"
      ]
     },
     "execution_count": 5,
     "metadata": {},
     "output_type": "execute_result"
    }
   ],
   "source": [
    "df"
   ]
  },
  {
   "cell_type": "markdown",
   "metadata": {},
   "source": [
    "Quick look at the weight plot"
   ]
  },
  {
   "cell_type": "code",
   "execution_count": 6,
   "metadata": {},
   "outputs": [
    {
     "data": {
      "application/vnd.jupyter.widget-view+json": {
       "model_id": "0c2833640efc480ca809551ba182b998",
       "version_major": 2,
       "version_minor": 0
      },
      "text/plain": [
       "Canvas(toolbar=Toolbar(toolitems=[('Home', 'Reset original view', 'home', 'home'), ('Back', 'Back to previous …"
      ]
     },
     "metadata": {},
     "output_type": "display_data"
    },
    {
     "data": {
      "text/plain": [
       "<AxesSubplot:xlabel='date'>"
      ]
     },
     "execution_count": 6,
     "metadata": {},
     "output_type": "execute_result"
    }
   ],
   "source": [
    "df['weight'].plot()"
   ]
  },
  {
   "cell_type": "markdown",
   "metadata": {},
   "source": [
    "# Now take a look at the last time I was below some particular weight"
   ]
  },
  {
   "cell_type": "code",
   "execution_count": 7,
   "metadata": {},
   "outputs": [],
   "source": [
    "weight_of_interest = 185.3"
   ]
  },
  {
   "cell_type": "code",
   "execution_count": 8,
   "metadata": {},
   "outputs": [
    {
     "data": {
      "text/html": [
       "<div>\n",
       "<style scoped>\n",
       "    .dataframe tbody tr th:only-of-type {\n",
       "        vertical-align: middle;\n",
       "    }\n",
       "\n",
       "    .dataframe tbody tr th {\n",
       "        vertical-align: top;\n",
       "    }\n",
       "\n",
       "    .dataframe thead th {\n",
       "        text-align: right;\n",
       "    }\n",
       "</style>\n",
       "<table border=\"1\" class=\"dataframe\">\n",
       "  <thead>\n",
       "    <tr style=\"text-align: right;\">\n",
       "      <th></th>\n",
       "      <th>date</th>\n",
       "      <th>weight</th>\n",
       "      <th>fat</th>\n",
       "      <th>bmi</th>\n",
       "    </tr>\n",
       "    <tr>\n",
       "      <th>date</th>\n",
       "      <th></th>\n",
       "      <th></th>\n",
       "      <th></th>\n",
       "      <th></th>\n",
       "    </tr>\n",
       "  </thead>\n",
       "  <tbody>\n",
       "    <tr>\n",
       "      <th>2014-03-07</th>\n",
       "      <td>2014-03-07</td>\n",
       "      <td>184.3</td>\n",
       "      <td>None</td>\n",
       "      <td>27.24</td>\n",
       "    </tr>\n",
       "  </tbody>\n",
       "</table>\n",
       "</div>"
      ],
      "text/plain": [
       "                 date  weight   fat    bmi\n",
       "date                                      \n",
       "2014-03-07 2014-03-07   184.3  None  27.24"
      ]
     },
     "execution_count": 8,
     "metadata": {},
     "output_type": "execute_result"
    }
   ],
   "source": [
    "df[df['weight'] < weight_of_interest]"
   ]
  },
  {
   "cell_type": "code",
   "execution_count": null,
   "metadata": {},
   "outputs": [],
   "source": []
  }
 ],
 "metadata": {
  "kernelspec": {
   "display_name": "fitbit",
   "language": "python",
   "name": "fitbit"
  },
  "language_info": {
   "codemirror_mode": {
    "name": "ipython",
    "version": 3
   },
   "file_extension": ".py",
   "mimetype": "text/x-python",
   "name": "python",
   "nbconvert_exporter": "python",
   "pygments_lexer": "ipython3",
   "version": "3.8.6"
  }
 },
 "nbformat": 4,
 "nbformat_minor": 4
}
